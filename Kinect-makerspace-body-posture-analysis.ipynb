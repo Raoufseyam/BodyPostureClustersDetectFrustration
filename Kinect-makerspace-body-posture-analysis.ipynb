{
 "cells": [
  {
   "cell_type": "markdown",
   "metadata": {},
   "source": [
    "# Exploring Kinect Sensor readings of body postures as an indicator of student frustration levels in makerspaces\n",
    "\n",
    "Mohamed Raouf Seyam\n",
    "\n",
    "Harvard University\n",
    "\n",
    "mohamedseyam@gse.harvard.edu"
   ]
  },
  {
   "cell_type": "markdown",
   "metadata": {},
   "source": [
    "**Overview**: \n",
    "In this notebook, we investigate the association between frustraion and body postures as captured by 2 kinect sensors in a makerspace. The aim of this analysis is to examine the correlations between student reported levels of frustration, and clusters of body part (x,y) coordinates captured by the Kinect sensors. This notebook builds on previous analyses in Ramirez et al, 2019\n",
    "\n",
    "**Participant privacy**\n",
    "All data used in this notebook was anonymized in a separate notebook\n",
    "\n"
   ]
  },
  {
   "cell_type": "markdown",
   "metadata": {},
   "source": [
    "## Reading Data"
   ]
  },
  {
   "cell_type": "code",
   "execution_count": null,
   "metadata": {},
   "outputs": [],
   "source": [
    "# # for Google Colab use only\n",
    "# from google.colab import drive\n",
    "# drive.mount('content/')"
   ]
  },
  {
   "cell_type": "code",
   "execution_count": 65,
   "metadata": {},
   "outputs": [],
   "source": [
    "path = ''"
   ]
  },
  {
   "cell_type": "code",
   "execution_count": 171,
   "metadata": {},
   "outputs": [],
   "source": [
    "import re\n",
    "import os\n",
    "import csv\n",
    "import math\n",
    "import seaborn as sns\n",
    "import pandas as pd\n",
    "from scipy.stats.stats import pearsonr\n",
    "from scipy import stats \n",
    "from scipy.stats import pearsonr\n",
    "from sklearn.cluster import DBSCAN\n",
    "from sklearn.preprocessing import StandardScaler\n",
    "import numpy as np\n",
    "import time\n",
    "import matplotlib.pyplot as plt\n",
    "%matplotlib inline\n"
   ]
  },
  {
   "cell_type": "code",
   "execution_count": 67,
   "metadata": {},
   "outputs": [
    {
     "data": {
      "text/plain": [
       "'C:\\\\Users\\\\raouf\\\\Documents\\\\GitHub\\\\S435 - Kinect final project - raouf'"
      ]
     },
     "execution_count": 67,
     "metadata": {},
     "output_type": "execute_result"
    }
   ],
   "source": [
    "os.getcwd()"
   ]
  },
  {
   "cell_type": "code",
   "execution_count": 68,
   "metadata": {},
   "outputs": [
    {
     "data": {
      "text/plain": [
       "['.ipynb_checkpoints',\n",
       " 'all_survey_kinect_data.csv',\n",
       " 'df_corr.csv',\n",
       " 'Kinect',\n",
       " 'Kinect draft.ipynb',\n",
       " 'Kinect-Final-Project.ipynb',\n",
       " 'makerspace floorplan.pptx',\n",
       " 'name.docx',\n",
       " 'Untitled.ipynb',\n",
       " 'Untitled1.ipynb']"
      ]
     },
     "execution_count": 68,
     "metadata": {},
     "output_type": "execute_result"
    }
   ],
   "source": [
    "os.listdir('../S435 - Kinect final project - raouf')"
   ]
  },
  {
   "cell_type": "markdown",
   "metadata": {},
   "source": [
    "Reading in student self-reported data and grouping by week"
   ]
  },
  {
   "cell_type": "code",
   "execution_count": 69,
   "metadata": {},
   "outputs": [],
   "source": [
    "data = pd.read_csv('../S435 - Kinect final project - raouf/all_survey_kinect_data.csv')\n",
    "data = data.groupby('week', as_index=False).mean()"
   ]
  },
  {
   "cell_type": "markdown",
   "metadata": {},
   "source": [
    "Reading in  and combining weekly kinect sensor recordings"
   ]
  },
  {
   "cell_type": "code",
   "execution_count": 123,
   "metadata": {
    "scrolled": false
   },
   "outputs": [
    {
     "name": "stdout",
     "output_type": "stream",
     "text": [
      "['.ipynb_checkpoints', 'Untitled.ipynb', 'wk10.csv', 'wk11.csv', 'wk12.csv', 'wk13.csv', 'wk2.csv', 'wk3.csv', 'wk4.csv', 'wk5.csv', 'wk6.csv', 'wk7.csv', 'wk9.csv']\n"
     ]
    }
   ],
   "source": [
    "files = os.listdir('./Kinect/')\n",
    "print(files)"
   ]
  },
  {
   "cell_type": "code",
   "execution_count": 124,
   "metadata": {
    "scrolled": true
   },
   "outputs": [
    {
     "name": "stdout",
     "output_type": "stream",
     "text": [
      "92999\n",
      "start\n",
      "done with wk10.csv\n",
      "96778\n",
      "done with wk11.csv\n",
      "66519\n",
      "done with wk12.csv\n",
      "87359\n",
      "done with wk13.csv\n",
      "83641\n",
      "done with wk2.csv\n",
      "36130\n",
      "done with wk3.csv\n",
      "47089\n",
      "done with wk4.csv\n",
      "44799\n",
      "done with wk5.csv\n",
      "133242\n",
      "done with wk6.csv\n",
      "70708\n",
      "done with wk7.csv\n",
      "21178\n",
      "done with wk9.csv\n"
     ]
    }
   ],
   "source": [
    "master_df = 0\n",
    "dfList = []\n",
    "for filename in os.listdir('./Kinect'):\n",
    "    if filename.endswith('.csv'):\n",
    "        path = os.path.join('Kinect', filename)\n",
    "        x = list(map(int, re.search('\\d+', filename).group())) \n",
    "        df = pd.read_csv(path)\n",
    "        df['week'] = ''.join(str(i) for i in x)\n",
    "        print(len(df))\n",
    "        if not type(master_df) == pd.core.frame.DataFrame:\n",
    "            print('start')\n",
    "            master_df = df\n",
    "            dfList = [master_df]\n",
    "        else:\n",
    "            dfList.append(df)\n",
    "    \n",
    "        print('done with ' + filename)"
   ]
  },
  {
   "cell_type": "code",
   "execution_count": 125,
   "metadata": {},
   "outputs": [
    {
     "name": "stderr",
     "output_type": "stream",
     "text": [
      "C:\\Users\\raouf\\Anaconda3.1\\lib\\site-packages\\ipykernel_launcher.py:1: FutureWarning: Sorting because non-concatenation axis is not aligned. A future version\n",
      "of pandas will change to not sort by default.\n",
      "\n",
      "To accept the future behavior, pass 'sort=False'.\n",
      "\n",
      "To retain the current behavior and silence the warning, pass 'sort=True'.\n",
      "\n",
      "  \"\"\"Entry point for launching an IPython kernel.\n"
     ]
    },
    {
     "data": {
      "text/plain": [
       "(780442, 47)"
      ]
     },
     "execution_count": 125,
     "metadata": {},
     "output_type": "execute_result"
    }
   ],
   "source": [
    "master_df = pd.concat(dfList)\n",
    "master_df.shape"
   ]
  },
  {
   "cell_type": "markdown",
   "metadata": {},
   "source": [
    "## Exploratory Data Analysis"
   ]
  },
  {
   "cell_type": "code",
   "execution_count": 88,
   "metadata": {},
   "outputs": [
    {
     "data": {
      "text/plain": [
       "<function matplotlib.pyplot.show(*args, **kw)>"
      ]
     },
     "execution_count": 88,
     "metadata": {},
     "output_type": "execute_result"
    },
    {
     "data": {
      "image/png": "[encoded data removed]",
      "text/plain": [
       "<Figure size 432x288 with 1 Axes>"
      ]
     },
     "metadata": {
      "needs_background": "light"
     },
     "output_type": "display_data"
    }
   ],
   "source": [
    "plt.plot(data.week, data.frustrated)\n",
    "plt.xlabel('week')\n",
    "plt.ylabel('frustrated')\n",
    "plt.show"
   ]
  },
  {
   "cell_type": "code",
   "execution_count": 87,
   "metadata": {
    "scrolled": true
   },
   "outputs": [
    {
     "data": {
      "text/plain": [
       "<function matplotlib.pyplot.show(*args, **kw)>"
      ]
     },
     "execution_count": 87,
     "metadata": {},
     "output_type": "execute_result"
    },
    {
     "data": {
      "image/png": "[encoded data removed]",
      "text/plain": [
       "<Figure size 432x288 with 1 Axes>"
      ]
     },
     "metadata": {
      "needs_background": "light"
     },
     "output_type": "display_data"
    }
   ],
   "source": [
    "plt.plot(data.week, data.actual_movement/1000)\n",
    "plt.xlabel('week')\n",
    "plt.ylabel('movement')\n",
    "plt.show"
   ]
  },
  {
   "cell_type": "code",
   "execution_count": 84,
   "metadata": {},
   "outputs": [
    {
     "data": {
      "text/plain": [
       "<function matplotlib.pyplot.show(*args, **kw)>"
      ]
     },
     "execution_count": 84,
     "metadata": {},
     "output_type": "execute_result"
    },
    {
     "data": {
      "image/png": "[encoded data removed]",
      "text/plain": [
       "<Figure size 432x288 with 1 Axes>"
      ]
     },
     "metadata": {
      "needs_background": "light"
     },
     "output_type": "display_data"
    }
   ],
   "source": [
    "plt.plot(data.week, data.frustrated, 'bx--')\n",
    "plt.xlabel('week')\n",
    "plt.plot(data.week, data.actual_movement/1000, 'ro--')\n",
    "plt.xlabel('week')\n",
    "plt.ylabel('movement and frustration')\n",
    "plt.show"
   ]
  },
  {
   "cell_type": "code",
   "execution_count": 90,
   "metadata": {},
   "outputs": [
    {
     "data": {
      "text/plain": [
       "<function matplotlib.pyplot.show(*args, **kw)>"
      ]
     },
     "execution_count": 90,
     "metadata": {},
     "output_type": "execute_result"
    },
    {
     "data": {
      "image/png": "[encoded data removed]",
      "text/plain": [
       "<Figure size 432x288 with 1 Axes>"
      ]
     },
     "metadata": {
      "needs_background": "light"
     },
     "output_type": "display_data"
    }
   ],
   "source": [
    "plt.scatter(data.frustrated, data.actual_movement)\n",
    "plt.xlabel('frustration')\n",
    "plt.ylabel('movement')\n",
    "plt.show"
   ]
  },
  {
   "cell_type": "code",
   "execution_count": 91,
   "metadata": {},
   "outputs": [
    {
     "data": {
      "text/plain": [
       "array([[ 1.        , -0.35170908],\n",
       "       [-0.35170908,  1.        ]])"
      ]
     },
     "execution_count": 91,
     "metadata": {},
     "output_type": "execute_result"
    }
   ],
   "source": [
    "np.corrcoef(data.frustrated, data.actual_movement)"
   ]
  },
  {
   "cell_type": "code",
   "execution_count": 103,
   "metadata": {},
   "outputs": [
    {
     "data": {
      "text/plain": [
       "<function matplotlib.pyplot.show(*args, **kw)>"
      ]
     },
     "execution_count": 103,
     "metadata": {},
     "output_type": "execute_result"
    },
    {
     "data": {
      "image/png": "[encoded data removed]",
      "text/plain": [
       "<Figure size 432x288 with 1 Axes>"
      ]
     },
     "metadata": {
      "needs_background": "light"
     },
     "output_type": "display_data"
    }
   ],
   "source": [
    "plt.scatter(data.frustrated, data.head_to_elbwR)\n",
    "plt.scatter(data.frustrated, data.head_to_elbwL)\n",
    "plt.xlabel('frustration')\n",
    "plt.ylabel('avg head to elbow distance(cm)')\n",
    "plt.show"
   ]
  },
  {
   "cell_type": "code",
   "execution_count": 108,
   "metadata": {},
   "outputs": [
    {
     "data": {
      "text/plain": [
       "<function matplotlib.pyplot.show(*args, **kw)>"
      ]
     },
     "execution_count": 108,
     "metadata": {},
     "output_type": "execute_result"
    },
    {
     "data": {
      "image/png": "[encoded data removed]",
      "text/plain": [
       "<Figure size 432x288 with 1 Axes>"
      ]
     },
     "metadata": {
      "needs_background": "light"
     },
     "output_type": "display_data"
    }
   ],
   "source": [
    "plt.scatter(data.frustrated, data.handL_to_elbowR)\n",
    "plt.scatter(data.frustrated, data.handR_to_elbowL)\n",
    "plt.xlabel('frustration')\n",
    "plt.ylabel('avg head to hand distance(cm)')\n",
    "plt.show"
   ]
  },
  {
   "cell_type": "code",
   "execution_count": 18,
   "metadata": {},
   "outputs": [
    {
     "data": {
      "text/plain": [
       "array([[ 1.        , -0.35170908],\n",
       "       [-0.35170908,  1.        ]])"
      ]
     },
     "execution_count": 18,
     "metadata": {},
     "output_type": "execute_result"
    }
   ],
   "source": [
    "np.corrcoef(data.frustrated, data.actual_movement)"
   ]
  },
  {
   "cell_type": "code",
   "execution_count": 110,
   "metadata": {},
   "outputs": [
    {
     "data": {
      "text/plain": [
       "array([[ 1.        , -0.62062003],\n",
       "       [-0.62062003,  1.        ]])"
      ]
     },
     "execution_count": 110,
     "metadata": {},
     "output_type": "execute_result"
    }
   ],
   "source": [
    "np.corrcoef(data.frustrated, data.head_to_handL)"
   ]
  },
  {
   "cell_type": "code",
   "execution_count": 111,
   "metadata": {},
   "outputs": [
    {
     "data": {
      "text/plain": [
       "array([[ 1.        , -0.26223004],\n",
       "       [-0.26223004,  1.        ]])"
      ]
     },
     "execution_count": 111,
     "metadata": {},
     "output_type": "execute_result"
    }
   ],
   "source": [
    "np.corrcoef(data.frustrated, data.head_to_handR)"
   ]
  },
  {
   "cell_type": "code",
   "execution_count": 126,
   "metadata": {
    "collapsed": true
   },
   "outputs": [
    {
     "data": {
      "text/html": [
       "<div>\n",
       "<style scoped>\n",
       "    .dataframe tbody tr th:only-of-type {\n",
       "        vertical-align: middle;\n",
       "    }\n",
       "\n",
       "    .dataframe tbody tr th {\n",
       "        vertical-align: top;\n",
       "    }\n",
       "\n",
       "    .dataframe thead th {\n",
       "        text-align: right;\n",
       "    }\n",
       "</style>\n",
       "<table border=\"1\" class=\"dataframe\">\n",
       "  <thead>\n",
       "    <tr style=\"text-align: right;\">\n",
       "      <th></th>\n",
       "      <th>frustrated</th>\n",
       "      <th>week</th>\n",
       "      <th>hours_assignmt</th>\n",
       "      <th>actual_movement</th>\n",
       "      <th>isTalking</th>\n",
       "      <th>head_to_handL</th>\n",
       "      <th>head_to_handR</th>\n",
       "      <th>handL_to_elbowR</th>\n",
       "      <th>handR_to_elbowL</th>\n",
       "    </tr>\n",
       "  </thead>\n",
       "  <tbody>\n",
       "    <tr>\n",
       "      <th>frustrated</th>\n",
       "      <td>1.000000</td>\n",
       "      <td>0.202503</td>\n",
       "      <td>0.676626</td>\n",
       "      <td>-0.351709</td>\n",
       "      <td>-0.117985</td>\n",
       "      <td>-0.620620</td>\n",
       "      <td>-0.262230</td>\n",
       "      <td>-0.560660</td>\n",
       "      <td>0.465830</td>\n",
       "    </tr>\n",
       "    <tr>\n",
       "      <th>week</th>\n",
       "      <td>0.202503</td>\n",
       "      <td>1.000000</td>\n",
       "      <td>0.149869</td>\n",
       "      <td>-0.759207</td>\n",
       "      <td>0.481550</td>\n",
       "      <td>-0.124961</td>\n",
       "      <td>-0.547696</td>\n",
       "      <td>-0.180487</td>\n",
       "      <td>-0.311862</td>\n",
       "    </tr>\n",
       "    <tr>\n",
       "      <th>hours_assignmt</th>\n",
       "      <td>0.676626</td>\n",
       "      <td>0.149869</td>\n",
       "      <td>1.000000</td>\n",
       "      <td>-0.143917</td>\n",
       "      <td>-0.392840</td>\n",
       "      <td>-0.514350</td>\n",
       "      <td>-0.086674</td>\n",
       "      <td>-0.458535</td>\n",
       "      <td>0.318990</td>\n",
       "    </tr>\n",
       "    <tr>\n",
       "      <th>actual_movement</th>\n",
       "      <td>-0.351709</td>\n",
       "      <td>-0.759207</td>\n",
       "      <td>-0.143917</td>\n",
       "      <td>1.000000</td>\n",
       "      <td>-0.037280</td>\n",
       "      <td>0.359610</td>\n",
       "      <td>0.891269</td>\n",
       "      <td>0.337535</td>\n",
       "      <td>-0.003682</td>\n",
       "    </tr>\n",
       "    <tr>\n",
       "      <th>isTalking</th>\n",
       "      <td>-0.117985</td>\n",
       "      <td>0.481550</td>\n",
       "      <td>-0.392840</td>\n",
       "      <td>-0.037280</td>\n",
       "      <td>1.000000</td>\n",
       "      <td>0.070755</td>\n",
       "      <td>0.007993</td>\n",
       "      <td>0.078847</td>\n",
       "      <td>-0.169534</td>\n",
       "    </tr>\n",
       "    <tr>\n",
       "      <th>head_to_handL</th>\n",
       "      <td>-0.620620</td>\n",
       "      <td>-0.124961</td>\n",
       "      <td>-0.514350</td>\n",
       "      <td>0.359610</td>\n",
       "      <td>0.070755</td>\n",
       "      <td>1.000000</td>\n",
       "      <td>0.381602</td>\n",
       "      <td>0.919253</td>\n",
       "      <td>-0.680898</td>\n",
       "    </tr>\n",
       "    <tr>\n",
       "      <th>head_to_handR</th>\n",
       "      <td>-0.262230</td>\n",
       "      <td>-0.547696</td>\n",
       "      <td>-0.086674</td>\n",
       "      <td>0.891269</td>\n",
       "      <td>0.007993</td>\n",
       "      <td>0.381602</td>\n",
       "      <td>1.000000</td>\n",
       "      <td>0.219842</td>\n",
       "      <td>-0.323093</td>\n",
       "    </tr>\n",
       "    <tr>\n",
       "      <th>handL_to_elbowR</th>\n",
       "      <td>-0.560660</td>\n",
       "      <td>-0.180487</td>\n",
       "      <td>-0.458535</td>\n",
       "      <td>0.337535</td>\n",
       "      <td>0.078847</td>\n",
       "      <td>0.919253</td>\n",
       "      <td>0.219842</td>\n",
       "      <td>1.000000</td>\n",
       "      <td>-0.423849</td>\n",
       "    </tr>\n",
       "    <tr>\n",
       "      <th>handR_to_elbowL</th>\n",
       "      <td>0.465830</td>\n",
       "      <td>-0.311862</td>\n",
       "      <td>0.318990</td>\n",
       "      <td>-0.003682</td>\n",
       "      <td>-0.169534</td>\n",
       "      <td>-0.680898</td>\n",
       "      <td>-0.323093</td>\n",
       "      <td>-0.423849</td>\n",
       "      <td>1.000000</td>\n",
       "    </tr>\n",
       "  </tbody>\n",
       "</table>\n",
       "</div>"
      ],
      "text/plain": [
       "                 frustrated      week  hours_assignmt  actual_movement  \\\n",
       "frustrated         1.000000  0.202503        0.676626        -0.351709   \n",
       "week               0.202503  1.000000        0.149869        -0.759207   \n",
       "hours_assignmt     0.676626  0.149869        1.000000        -0.143917   \n",
       "actual_movement   -0.351709 -0.759207       -0.143917         1.000000   \n",
       "isTalking         -0.117985  0.481550       -0.392840        -0.037280   \n",
       "head_to_handL     -0.620620 -0.124961       -0.514350         0.359610   \n",
       "head_to_handR     -0.262230 -0.547696       -0.086674         0.891269   \n",
       "handL_to_elbowR   -0.560660 -0.180487       -0.458535         0.337535   \n",
       "handR_to_elbowL    0.465830 -0.311862        0.318990        -0.003682   \n",
       "\n",
       "                 isTalking  head_to_handL  head_to_handR  handL_to_elbowR  \\\n",
       "frustrated       -0.117985      -0.620620      -0.262230        -0.560660   \n",
       "week              0.481550      -0.124961      -0.547696        -0.180487   \n",
       "hours_assignmt   -0.392840      -0.514350      -0.086674        -0.458535   \n",
       "actual_movement  -0.037280       0.359610       0.891269         0.337535   \n",
       "isTalking         1.000000       0.070755       0.007993         0.078847   \n",
       "head_to_handL     0.070755       1.000000       0.381602         0.919253   \n",
       "head_to_handR     0.007993       0.381602       1.000000         0.219842   \n",
       "handL_to_elbowR   0.078847       0.919253       0.219842         1.000000   \n",
       "handR_to_elbowL  -0.169534      -0.680898      -0.323093        -0.423849   \n",
       "\n",
       "                 handR_to_elbowL  \n",
       "frustrated              0.465830  \n",
       "week                   -0.311862  \n",
       "hours_assignmt          0.318990  \n",
       "actual_movement        -0.003682  \n",
       "isTalking              -0.169534  \n",
       "head_to_handL          -0.680898  \n",
       "head_to_handR          -0.323093  \n",
       "handL_to_elbowR        -0.423849  \n",
       "handR_to_elbowL         1.000000  "
      ]
     },
     "execution_count": 126,
     "metadata": {},
     "output_type": "execute_result"
    }
   ],
   "source": [
    "dfcorr = data[['frustrated', 'week', 'hours_assignmt', 'actual_movement',\n",
    "            'isTalking', 'head_to_handL','head_to_handR',\n",
    "            'handL_to_elbowR', 'handR_to_elbowL']]\n",
    "dfcorr.corr()"
   ]
  },
  {
   "cell_type": "code",
   "execution_count": 130,
   "metadata": {},
   "outputs": [
    {
     "name": "stderr",
     "output_type": "stream",
     "text": [
      "C:\\Users\\raouf\\Anaconda3.1\\lib\\site-packages\\ipykernel_launcher.py:1: FutureWarning: pandas.scatter_matrix is deprecated, use pandas.plotting.scatter_matrix instead\n",
      "  \"\"\"Entry point for launching an IPython kernel.\n"
     ]
    },
    {
     "data": {
      "image/png": "[encoded data removed]",
      "text/plain": [
       "<Figure size 432x432 with 81 Axes>"
      ]
     },
     "metadata": {
      "needs_background": "light"
     },
     "output_type": "display_data"
    }
   ],
   "source": [
    "pd.scatter_matrix(dfcorr, figsize=(6, 6))\n",
    "plt.show()"
   ]
  },
  {
   "cell_type": "code",
   "execution_count": 116,
   "metadata": {},
   "outputs": [
    {
     "data": {
      "image/png": "[encoded data removed]",
      "text/plain": [
       "<Figure size 288x288 with 2 Axes>"
      ]
     },
     "metadata": {
      "needs_background": "light"
     },
     "output_type": "display_data"
    }
   ],
   "source": [
    "plt.matshow(dfcorr.corr())\n",
    "plt.xticks(range(len(dfcorr.columns)), dfcorr.columns, rotation=90)\n",
    "plt.yticks(range(len(dfcorr.columns)), dfcorr.columns, rotation=0)\n",
    "plt.colorbar()\n",
    "plt.show()"
   ]
  },
  {
   "cell_type": "code",
   "execution_count": 139,
   "metadata": {},
   "outputs": [
    {
     "name": "stdout",
     "output_type": "stream",
     "text": [
      "Survey Data =====\n",
      " ['hours_assignmt', 'actual_movement', 'isTalking', 'head_to_handL', 'head_to_handR', 'handL_to_elbowR', 'handR_to_elbowL'] \n",
      "\n",
      "Kinect Data =====\n",
      " ['frustrated', 'week']\n"
     ]
    },
    {
     "data": {
      "text/plain": [
       "<matplotlib.axes._subplots.AxesSubplot at 0x18599d49550>"
      ]
     },
     "execution_count": 139,
     "metadata": {},
     "output_type": "execute_result"
    },
    {
     "data": {
      "image/png": "[encoded data removed]",
      "text/plain": [
       "<Figure size 360x288 with 2 Axes>"
      ]
     },
     "metadata": {
      "needs_background": "light"
     },
     "output_type": "display_data"
    }
   ],
   "source": [
    "survey = list(dfcorr.columns)[2:]\n",
    "kinect = list(dfcorr.columns)[0:2]\n",
    "print('Survey Data =====\\n', survey, '\\n')\n",
    "print('Kinect Data =====\\n', kinect)\n",
    "\n",
    "correlations = dfcorr.corr()\n",
    "fig, ax = plt.subplots(figsize=(5,4)) \n",
    "sns.heatmap(correlations.loc[survey][kinect], annot=True)"
   ]
  },
  {
   "cell_type": "markdown",
   "metadata": {},
   "source": [
    "# Cluster Analysis"
   ]
  },
  {
   "cell_type": "markdown",
   "metadata": {},
   "source": [
    "## Kmeans"
   ]
  },
  {
   "cell_type": "code",
   "execution_count": 38,
   "metadata": {},
   "outputs": [],
   "source": [
    "# subset from master df\n",
    "subset = pd.DataFrame(data=master_df[['HandRight_x', 'HandRight_y',\n",
    "                                      'ElbowLeft_x', 'ElbowLeft_y',\n",
    "                                      'HandLeft_x', 'HandLeft_y',\n",
    "                                     'ElbowRight_x', 'ElbowRight_y']])\n",
    "subset.shape"
   ]
  },
  {
   "cell_type": "code",
   "execution_count": 40,
   "metadata": {
    "scrolled": true
   },
   "outputs": [],
   "source": [
    "# create a list of inertia values for k 1-10\n",
    "from sklearn.cluster import KMeans\n",
    "\n",
    "ks = list(range(1, 10))\n",
    "inertias = []\n",
    "\n",
    "for k in ks:\n",
    "    \n",
    "    # Create a KMeans instance with k clusters: model\n",
    "    kmeans = KMeans(n_clusters=k, max_iter=1000)\n",
    "    \n",
    "    # Fit model to samples\n",
    "    kmeans.fit(subset.values)\n",
    "    \n",
    "    # Append the inertia to the list of inertias\n",
    "    inertias.append(kmeans.inertia_)"
   ]
  },
  {
   "cell_type": "code",
   "execution_count": 41,
   "metadata": {},
   "outputs": [
    {
     "data": {
      "image/png": "[encoded data removed]",
      "text/plain": [
       "<Figure size 432x288 with 1 Axes>"
      ]
     },
     "metadata": {
      "needs_background": "light"
     },
     "output_type": "display_data"
    }
   ],
   "source": [
    "# plot the inertia values using matplotlib\n",
    "import matplotlib.pyplot as plt\n",
    "\n",
    "%matplotlib inline\n",
    "\n",
    "# Plot ks vs inertias\n",
    "plt.plot(ks, inertias, '-o')\n",
    "plt.xlabel('number of clusters, k')\n",
    "plt.ylabel('inertia')\n",
    "plt.xticks(ks)\n",
    "plt.show()"
   ]
  },
  {
   "cell_type": "markdown",
   "metadata": {},
   "source": [
    "Scree plot supports a 3 cluster choice"
   ]
  },
  {
   "cell_type": "code",
   "execution_count": 42,
   "metadata": {},
   "outputs": [],
   "source": [
    "# Create a KMeans instance with 3 clusters: model\n",
    "model = KMeans(n_clusters=3)\n",
    "\n",
    "# Fit model to points\n",
    "model.fit(subset)\n",
    "\n",
    "# Determine the cluster labels of new_points: labels\n",
    "master_df['cluster'] = model.predict(subset)"
   ]
  },
  {
   "cell_type": "code",
   "execution_count": 43,
   "metadata": {
    "scrolled": false
   },
   "outputs": [
    {
     "data": {
      "image/png": "[encoded data removed]",
      "text/plain": [
       "<Figure size 432x288 with 1 Axes>"
      ]
     },
     "metadata": {
      "needs_background": "light"
     },
     "output_type": "display_data"
    }
   ],
   "source": [
    "# Assign the cluster centers: centroids\n",
    "centroids = model.cluster_centers_\n",
    "\n",
    "# Assign the columns of centroids: centroids_x, centroids_y\n",
    "centroids_x = centroids[:,0]\n",
    "centroids_y = centroids[:,1]\n",
    "\n",
    "# Make a scatter plot of centroids_x and centroids_y\n",
    "plt.scatter(centroids_x, centroids_y, marker='D', s=50)\n",
    "plt.show()"
   ]
  },
  {
   "cell_type": "markdown",
   "metadata": {},
   "source": [
    "Creating a new dataframe that includes frustration/week and the number of instances spent in each of the clusters/week"
   ]
  },
  {
   "cell_type": "code",
   "execution_count": 45,
   "metadata": {
    "scrolled": true
   },
   "outputs": [],
   "source": [
    "df_count = pd.DataFrame(columns = ['Week','Cluster0','Cluster1','Cluster2'])\n",
    "\n",
    "df_count['Week'] = [2, 3, 4, 5, 6,  7, 9, 10, 11, 12, 13]\n",
    "\n",
    "for i in range(2,8):\n",
    "        df_count_temp = master_df.loc[master_df.week==str(i)]\n",
    "        for j in range(3):\n",
    "            df_count_temp1 = df_count_temp.loc[df_count_temp.cluster==j]\n",
    "            df_count.iat[i-2,j+1]=df_count_temp1.shape[0]\n",
    "\n",
    "for i in range(9,14):\n",
    "        df_count_temp = master_df.loc[master_df.week==str(i)]\n",
    "        for j in range(3):\n",
    "            df_count_temp1 = df_count_temp.loc[df_count_temp.cluster==j]\n",
    "            df_count.iat[i-3,j+1]=df_count_temp1.shape[0]\n"
   ]
  },
  {
   "cell_type": "markdown",
   "metadata": {},
   "source": [
    "Because week 12 is missing from the student self reported measures csv, it will be skipped in the new dataframe"
   ]
  },
  {
   "cell_type": "code",
   "execution_count": 46,
   "metadata": {},
   "outputs": [
    {
     "name": "stderr",
     "output_type": "stream",
     "text": [
      "C:\\Users\\raouf\\Anaconda3.1\\lib\\site-packages\\ipykernel_launcher.py:3: SettingWithCopyWarning: \n",
      "A value is trying to be set on a copy of a slice from a DataFrame\n",
      "\n",
      "See the caveats in the documentation: http://pandas.pydata.org/pandas-docs/stable/indexing.html#indexing-view-versus-copy\n",
      "  This is separate from the ipykernel package so we can avoid doing imports until\n",
      "C:\\Users\\raouf\\Anaconda3.1\\lib\\site-packages\\ipykernel_launcher.py:5: SettingWithCopyWarning: \n",
      "A value is trying to be set on a copy of a slice from a DataFrame\n",
      "\n",
      "See the caveats in the documentation: http://pandas.pydata.org/pandas-docs/stable/indexing.html#indexing-view-versus-copy\n",
      "  \"\"\"\n"
     ]
    }
   ],
   "source": [
    "df_count['frustrated']=\"\"\n",
    "for i in range(0, 9):\n",
    "    df_count['frustrated'][i] = dfcorr['frustrated'][i]\n",
    "\n",
    "df_count['frustrated'][10] = dfcorr['frustrated'][9]"
   ]
  },
  {
   "cell_type": "code",
   "execution_count": 47,
   "metadata": {
    "scrolled": true
   },
   "outputs": [
    {
     "data": {
      "text/html": [
       "<div>\n",
       "<style scoped>\n",
       "    .dataframe tbody tr th:only-of-type {\n",
       "        vertical-align: middle;\n",
       "    }\n",
       "\n",
       "    .dataframe tbody tr th {\n",
       "        vertical-align: top;\n",
       "    }\n",
       "\n",
       "    .dataframe thead th {\n",
       "        text-align: right;\n",
       "    }\n",
       "</style>\n",
       "<table border=\"1\" class=\"dataframe\">\n",
       "  <thead>\n",
       "    <tr style=\"text-align: right;\">\n",
       "      <th></th>\n",
       "      <th>Week</th>\n",
       "      <th>Cluster0</th>\n",
       "      <th>Cluster1</th>\n",
       "      <th>Cluster2</th>\n",
       "      <th>frustrated</th>\n",
       "    </tr>\n",
       "  </thead>\n",
       "  <tbody>\n",
       "    <tr>\n",
       "      <th>0</th>\n",
       "      <td>2</td>\n",
       "      <td>33868</td>\n",
       "      <td>49773</td>\n",
       "      <td>0</td>\n",
       "      <td>3.75</td>\n",
       "    </tr>\n",
       "    <tr>\n",
       "      <th>1</th>\n",
       "      <td>3</td>\n",
       "      <td>13154</td>\n",
       "      <td>22976</td>\n",
       "      <td>0</td>\n",
       "      <td>3</td>\n",
       "    </tr>\n",
       "    <tr>\n",
       "      <th>2</th>\n",
       "      <td>4</td>\n",
       "      <td>17460</td>\n",
       "      <td>29629</td>\n",
       "      <td>0</td>\n",
       "      <td>2.66667</td>\n",
       "    </tr>\n",
       "    <tr>\n",
       "      <th>3</th>\n",
       "      <td>5</td>\n",
       "      <td>11152</td>\n",
       "      <td>33647</td>\n",
       "      <td>0</td>\n",
       "      <td>2.69231</td>\n",
       "    </tr>\n",
       "    <tr>\n",
       "      <th>4</th>\n",
       "      <td>6</td>\n",
       "      <td>40133</td>\n",
       "      <td>93109</td>\n",
       "      <td>0</td>\n",
       "      <td>3.33333</td>\n",
       "    </tr>\n",
       "    <tr>\n",
       "      <th>5</th>\n",
       "      <td>7</td>\n",
       "      <td>40434</td>\n",
       "      <td>7588</td>\n",
       "      <td>22686</td>\n",
       "      <td>1.93333</td>\n",
       "    </tr>\n",
       "    <tr>\n",
       "      <th>6</th>\n",
       "      <td>9</td>\n",
       "      <td>12056</td>\n",
       "      <td>9122</td>\n",
       "      <td>0</td>\n",
       "      <td>2.55556</td>\n",
       "    </tr>\n",
       "    <tr>\n",
       "      <th>7</th>\n",
       "      <td>10</td>\n",
       "      <td>29635</td>\n",
       "      <td>63364</td>\n",
       "      <td>0</td>\n",
       "      <td>3.875</td>\n",
       "    </tr>\n",
       "    <tr>\n",
       "      <th>8</th>\n",
       "      <td>11</td>\n",
       "      <td>35284</td>\n",
       "      <td>61494</td>\n",
       "      <td>0</td>\n",
       "      <td>3.8125</td>\n",
       "    </tr>\n",
       "    <tr>\n",
       "      <th>9</th>\n",
       "      <td>12</td>\n",
       "      <td>24753</td>\n",
       "      <td>41766</td>\n",
       "      <td>0</td>\n",
       "      <td></td>\n",
       "    </tr>\n",
       "    <tr>\n",
       "      <th>10</th>\n",
       "      <td>13</td>\n",
       "      <td>17245</td>\n",
       "      <td>70114</td>\n",
       "      <td>0</td>\n",
       "      <td>3.28571</td>\n",
       "    </tr>\n",
       "  </tbody>\n",
       "</table>\n",
       "</div>"
      ],
      "text/plain": [
       "    Week Cluster0 Cluster1 Cluster2 frustrated\n",
       "0      2    33868    49773        0       3.75\n",
       "1      3    13154    22976        0          3\n",
       "2      4    17460    29629        0    2.66667\n",
       "3      5    11152    33647        0    2.69231\n",
       "4      6    40133    93109        0    3.33333\n",
       "5      7    40434     7588    22686    1.93333\n",
       "6      9    12056     9122        0    2.55556\n",
       "7     10    29635    63364        0      3.875\n",
       "8     11    35284    61494        0     3.8125\n",
       "9     12    24753    41766        0           \n",
       "10    13    17245    70114        0    3.28571"
      ]
     },
     "execution_count": 47,
     "metadata": {},
     "output_type": "execute_result"
    }
   ],
   "source": [
    "df_count"
   ]
  },
  {
   "cell_type": "code",
   "execution_count": 48,
   "metadata": {},
   "outputs": [
    {
     "data": {
      "text/html": [
       "<div>\n",
       "<style scoped>\n",
       "    .dataframe tbody tr th:only-of-type {\n",
       "        vertical-align: middle;\n",
       "    }\n",
       "\n",
       "    .dataframe tbody tr th {\n",
       "        vertical-align: top;\n",
       "    }\n",
       "\n",
       "    .dataframe thead th {\n",
       "        text-align: right;\n",
       "    }\n",
       "</style>\n",
       "<table border=\"1\" class=\"dataframe\">\n",
       "  <thead>\n",
       "    <tr style=\"text-align: right;\">\n",
       "      <th></th>\n",
       "      <th>Week</th>\n",
       "      <th>Cluster0</th>\n",
       "      <th>Cluster1</th>\n",
       "      <th>Cluster2</th>\n",
       "      <th>frustrated</th>\n",
       "    </tr>\n",
       "  </thead>\n",
       "  <tbody>\n",
       "    <tr>\n",
       "      <th>0</th>\n",
       "      <td>2</td>\n",
       "      <td>33868</td>\n",
       "      <td>49773</td>\n",
       "      <td>0</td>\n",
       "      <td>3.75</td>\n",
       "    </tr>\n",
       "    <tr>\n",
       "      <th>1</th>\n",
       "      <td>3</td>\n",
       "      <td>13154</td>\n",
       "      <td>22976</td>\n",
       "      <td>0</td>\n",
       "      <td>3</td>\n",
       "    </tr>\n",
       "    <tr>\n",
       "      <th>2</th>\n",
       "      <td>4</td>\n",
       "      <td>17460</td>\n",
       "      <td>29629</td>\n",
       "      <td>0</td>\n",
       "      <td>2.66667</td>\n",
       "    </tr>\n",
       "    <tr>\n",
       "      <th>3</th>\n",
       "      <td>5</td>\n",
       "      <td>11152</td>\n",
       "      <td>33647</td>\n",
       "      <td>0</td>\n",
       "      <td>2.69231</td>\n",
       "    </tr>\n",
       "    <tr>\n",
       "      <th>4</th>\n",
       "      <td>6</td>\n",
       "      <td>40133</td>\n",
       "      <td>93109</td>\n",
       "      <td>0</td>\n",
       "      <td>3.33333</td>\n",
       "    </tr>\n",
       "    <tr>\n",
       "      <th>5</th>\n",
       "      <td>7</td>\n",
       "      <td>40434</td>\n",
       "      <td>7588</td>\n",
       "      <td>22686</td>\n",
       "      <td>1.93333</td>\n",
       "    </tr>\n",
       "    <tr>\n",
       "      <th>6</th>\n",
       "      <td>9</td>\n",
       "      <td>12056</td>\n",
       "      <td>9122</td>\n",
       "      <td>0</td>\n",
       "      <td>2.55556</td>\n",
       "    </tr>\n",
       "    <tr>\n",
       "      <th>7</th>\n",
       "      <td>10</td>\n",
       "      <td>29635</td>\n",
       "      <td>63364</td>\n",
       "      <td>0</td>\n",
       "      <td>3.875</td>\n",
       "    </tr>\n",
       "    <tr>\n",
       "      <th>8</th>\n",
       "      <td>11</td>\n",
       "      <td>35284</td>\n",
       "      <td>61494</td>\n",
       "      <td>0</td>\n",
       "      <td>3.8125</td>\n",
       "    </tr>\n",
       "    <tr>\n",
       "      <th>10</th>\n",
       "      <td>13</td>\n",
       "      <td>17245</td>\n",
       "      <td>70114</td>\n",
       "      <td>0</td>\n",
       "      <td>3.28571</td>\n",
       "    </tr>\n",
       "  </tbody>\n",
       "</table>\n",
       "</div>"
      ],
      "text/plain": [
       "    Week Cluster0 Cluster1 Cluster2 frustrated\n",
       "0      2    33868    49773        0       3.75\n",
       "1      3    13154    22976        0          3\n",
       "2      4    17460    29629        0    2.66667\n",
       "3      5    11152    33647        0    2.69231\n",
       "4      6    40133    93109        0    3.33333\n",
       "5      7    40434     7588    22686    1.93333\n",
       "6      9    12056     9122        0    2.55556\n",
       "7     10    29635    63364        0      3.875\n",
       "8     11    35284    61494        0     3.8125\n",
       "10    13    17245    70114        0    3.28571"
      ]
     },
     "execution_count": 48,
     "metadata": {},
     "output_type": "execute_result"
    }
   ],
   "source": [
    "# removing week 12 due to missing frustration values\n",
    "df_count.drop(df_count.index[9])"
   ]
  },
  {
   "cell_type": "markdown",
   "metadata": {},
   "source": [
    "Sanity check: added up the total culster values per week and matched to the total number of rows in each week's csv"
   ]
  },
  {
   "cell_type": "code",
   "execution_count": 49,
   "metadata": {},
   "outputs": [],
   "source": [
    "df_corr = pd.read_csv('../S435 - Kinect final project - raouf/df_corr.csv')"
   ]
  },
  {
   "cell_type": "code",
   "execution_count": 50,
   "metadata": {
    "scrolled": true
   },
   "outputs": [
    {
     "data": {
      "text/html": [
       "<div>\n",
       "<style scoped>\n",
       "    .dataframe tbody tr th:only-of-type {\n",
       "        vertical-align: middle;\n",
       "    }\n",
       "\n",
       "    .dataframe tbody tr th {\n",
       "        vertical-align: top;\n",
       "    }\n",
       "\n",
       "    .dataframe thead th {\n",
       "        text-align: right;\n",
       "    }\n",
       "</style>\n",
       "<table border=\"1\" class=\"dataframe\">\n",
       "  <thead>\n",
       "    <tr style=\"text-align: right;\">\n",
       "      <th></th>\n",
       "      <th>Week</th>\n",
       "      <th>Cluster0</th>\n",
       "      <th>Cluster1</th>\n",
       "      <th>Cluster2</th>\n",
       "      <th>frustrated</th>\n",
       "    </tr>\n",
       "  </thead>\n",
       "  <tbody>\n",
       "    <tr>\n",
       "      <th>0</th>\n",
       "      <td>2</td>\n",
       "      <td>49746</td>\n",
       "      <td>33895</td>\n",
       "      <td>0</td>\n",
       "      <td>3.750</td>\n",
       "    </tr>\n",
       "    <tr>\n",
       "      <th>1</th>\n",
       "      <td>3</td>\n",
       "      <td>22973</td>\n",
       "      <td>13157</td>\n",
       "      <td>0</td>\n",
       "      <td>3.000</td>\n",
       "    </tr>\n",
       "    <tr>\n",
       "      <th>2</th>\n",
       "      <td>4</td>\n",
       "      <td>29604</td>\n",
       "      <td>17485</td>\n",
       "      <td>0</td>\n",
       "      <td>2.667</td>\n",
       "    </tr>\n",
       "    <tr>\n",
       "      <th>3</th>\n",
       "      <td>5</td>\n",
       "      <td>33622</td>\n",
       "      <td>11177</td>\n",
       "      <td>0</td>\n",
       "      <td>2.692</td>\n",
       "    </tr>\n",
       "    <tr>\n",
       "      <th>4</th>\n",
       "      <td>6</td>\n",
       "      <td>93081</td>\n",
       "      <td>40161</td>\n",
       "      <td>0</td>\n",
       "      <td>3.333</td>\n",
       "    </tr>\n",
       "    <tr>\n",
       "      <th>5</th>\n",
       "      <td>7</td>\n",
       "      <td>7585</td>\n",
       "      <td>40437</td>\n",
       "      <td>22686</td>\n",
       "      <td>1.933</td>\n",
       "    </tr>\n",
       "    <tr>\n",
       "      <th>6</th>\n",
       "      <td>9</td>\n",
       "      <td>9109</td>\n",
       "      <td>12069</td>\n",
       "      <td>0</td>\n",
       "      <td>2.556</td>\n",
       "    </tr>\n",
       "    <tr>\n",
       "      <th>7</th>\n",
       "      <td>10</td>\n",
       "      <td>63336</td>\n",
       "      <td>29663</td>\n",
       "      <td>0</td>\n",
       "      <td>3.875</td>\n",
       "    </tr>\n",
       "    <tr>\n",
       "      <th>8</th>\n",
       "      <td>11</td>\n",
       "      <td>61449</td>\n",
       "      <td>35329</td>\n",
       "      <td>0</td>\n",
       "      <td>3.813</td>\n",
       "    </tr>\n",
       "    <tr>\n",
       "      <th>9</th>\n",
       "      <td>13</td>\n",
       "      <td>70093</td>\n",
       "      <td>17266</td>\n",
       "      <td>0</td>\n",
       "      <td>3.286</td>\n",
       "    </tr>\n",
       "  </tbody>\n",
       "</table>\n",
       "</div>"
      ],
      "text/plain": [
       "   Week  Cluster0  Cluster1  Cluster2  frustrated\n",
       "0     2     49746     33895         0       3.750\n",
       "1     3     22973     13157         0       3.000\n",
       "2     4     29604     17485         0       2.667\n",
       "3     5     33622     11177         0       2.692\n",
       "4     6     93081     40161         0       3.333\n",
       "5     7      7585     40437     22686       1.933\n",
       "6     9      9109     12069         0       2.556\n",
       "7    10     63336     29663         0       3.875\n",
       "8    11     61449     35329         0       3.813\n",
       "9    13     70093     17266         0       3.286"
      ]
     },
     "execution_count": 50,
     "metadata": {},
     "output_type": "execute_result"
    }
   ],
   "source": [
    "df_corr"
   ]
  },
  {
   "cell_type": "code",
   "execution_count": 51,
   "metadata": {},
   "outputs": [
    {
     "data": {
      "text/plain": [
       "array([[1.        , 0.20269467],\n",
       "       [0.20269467, 1.        ]])"
      ]
     },
     "execution_count": 51,
     "metadata": {},
     "output_type": "execute_result"
    }
   ],
   "source": [
    "np.corrcoef(df_corr.Week, df_corr.frustrated)"
   ]
  },
  {
   "cell_type": "code",
   "execution_count": 52,
   "metadata": {},
   "outputs": [
    {
     "data": {
      "image/png": "[encoded data removed]",
      "text/plain": [
       "<Figure size 288x288 with 2 Axes>"
      ]
     },
     "metadata": {
      "needs_background": "light"
     },
     "output_type": "display_data"
    }
   ],
   "source": [
    "plt.matshow(df_corr.corr())\n",
    "plt.xticks(range(len(df_corr.columns)), df_corr.columns, rotation=90)\n",
    "plt.yticks(range(len(df_corr.columns)), df_corr.columns, rotation=0)\n",
    "plt.colorbar()\n",
    "plt.show()"
   ]
  },
  {
   "cell_type": "code",
   "execution_count": 59,
   "metadata": {
    "scrolled": true
   },
   "outputs": [
    {
     "name": "stdout",
     "output_type": "stream",
     "text": [
      "Survey Data =====\n",
      " ['frustrated'] \n",
      "\n",
      "Kinect Data =====\n",
      " ['Week', 'Cluster0', 'Cluster1', 'Cluster2']\n"
     ]
    },
    {
     "data": {
      "text/plain": [
       "<matplotlib.axes._subplots.AxesSubplot at 0x1859079c4a8>"
      ]
     },
     "execution_count": 59,
     "metadata": {},
     "output_type": "execute_result"
    },
    {
     "data": {
      "image/png": "[encoded data removed]",
      "text/plain": [
       "<Figure size 360x144 with 2 Axes>"
      ]
     },
     "metadata": {
      "needs_background": "light"
     },
     "output_type": "display_data"
    }
   ],
   "source": [
    "survey = list(df_corr.columns)[4:]\n",
    "kinect = list(df_corr.columns)[0:4]\n",
    "print('Survey Data =====\\n', survey, '\\n')\n",
    "print('Kinect Data =====\\n', kinect)\n",
    "\n",
    "correlations = df_corr.corr()\n",
    "fig, ax = plt.subplots(figsize=(5,2)) \n",
    "sns.heatmap(correlations.loc[survey][kinect], annot=True)"
   ]
  },
  {
   "cell_type": "code",
   "execution_count": 60,
   "metadata": {},
   "outputs": [],
   "source": [
    "def calculate_pvalues(df):\n",
    "    ''' computes the p-value for each correlation'''\n",
    "    #df = df.dropna()._get_numeric_data()\n",
    "    df = df._get_numeric_data()\n",
    "    dfcols = pd.DataFrame(columns=df.columns)\n",
    "    pvalues = dfcols.transpose().join(dfcols, how='outer')\n",
    "    for r in df.columns:\n",
    "        for c in df.columns:\n",
    "            x,y = removeMissingData(df[r],df[c])\n",
    "            results = stats.pearsonr(x,y)\n",
    "            pvalues[r][c] = round(results[1], 4)\n",
    "            #pvalues[r][c] = round(pearsonr(df[r], df[c])[1], 4)\n",
    "    return pvalues\n",
    "\n",
    "def removeNaN(a):\n",
    "    return [x for x in a if not math.isnan(x)]\n",
    "\n",
    "def removeMissingData(a, b):\n",
    "    x = list(a)\n",
    "    y = list(b)\n",
    "    i = len(x) -1\n",
    "    while(i != -1):  # get rid of missing values\n",
    "        if x[i] == None or y[i] == None \\\n",
    "        or math.isnan(x[i]) or math.isnan(y[i]):\n",
    "            del x[i]; del y[i]\n",
    "        i -= 1\n",
    "    return (x,y)"
   ]
  },
  {
   "cell_type": "code",
   "execution_count": 62,
   "metadata": {},
   "outputs": [
    {
     "data": {
      "text/plain": [
       "<matplotlib.axes._subplots.AxesSubplot at 0x18582653978>"
      ]
     },
     "execution_count": 62,
     "metadata": {},
     "output_type": "execute_result"
    },
    {
     "data": {
      "image/png": "[encoded data removed]",
      "text/plain": [
       "<Figure size 360x144 with 2 Axes>"
      ]
     },
     "metadata": {
      "needs_background": "light"
     },
     "output_type": "display_data"
    }
   ],
   "source": [
    "p_values = calculate_pvalues(df_corr).astype(float)\n",
    "fig, ax = plt.subplots(figsize=(5,2))\n",
    "sns.heatmap(p_values.loc[survey][kinect], annot=True)"
   ]
  },
  {
   "cell_type": "markdown",
   "metadata": {},
   "source": [
    "### DBScan "
   ]
  },
  {
   "cell_type": "markdown",
   "metadata": {},
   "source": [
    "For computational speed (and because DBScan can be troublesome when n>100,000), only 1 every 100 rows will be seleced for a subsample of 7804"
   ]
  },
  {
   "cell_type": "code",
   "execution_count": 180,
   "metadata": {},
   "outputs": [],
   "source": [
    "subsample = [i for i in (0, len(subset)) if i % 100 == 0]"
   ]
  },
  {
   "cell_type": "code",
   "execution_count": 176,
   "metadata": {
    "collapsed": true
   },
   "outputs": [
    {
     "ename": "ValueError",
     "evalue": "Expected 2D array, got 1D array instead:\narray=[0.].\nReshape your data either using array.reshape(-1, 1) if your data has a single feature or array.reshape(1, -1) if it contains a single sample.",
     "output_type": "error",
     "traceback": [
      "\u001b[1;31m---------------------------------------------------------------------------\u001b[0m",
      "\u001b[1;31mValueError\u001b[0m                                Traceback (most recent call last)",
      "\u001b[1;32m<ipython-input-176-bcc2fe2bc0dd>\u001b[0m in \u001b[0;36m<module>\u001b[1;34m\u001b[0m\n\u001b[0;32m      1\u001b[0m \u001b[0msubset\u001b[0m \u001b[1;33m=\u001b[0m \u001b[0msubsample\u001b[0m\u001b[1;33m.\u001b[0m\u001b[0mastype\u001b[0m\u001b[1;33m(\u001b[0m\u001b[1;34m\"float32\"\u001b[0m\u001b[1;33m,\u001b[0m \u001b[0mcopy\u001b[0m \u001b[1;33m=\u001b[0m \u001b[1;32mFalse\u001b[0m\u001b[1;33m)\u001b[0m\u001b[1;33m\u001b[0m\u001b[1;33m\u001b[0m\u001b[0m\n\u001b[0;32m      2\u001b[0m \u001b[1;33m\u001b[0m\u001b[0m\n\u001b[1;32m----> 3\u001b[1;33m \u001b[0mdbscan\u001b[0m \u001b[1;33m=\u001b[0m \u001b[0mDBSCAN\u001b[0m\u001b[1;33m(\u001b[0m\u001b[0meps\u001b[0m\u001b[1;33m=\u001b[0m\u001b[1;36m0.5\u001b[0m\u001b[1;33m,\u001b[0m \u001b[0mmin_samples\u001b[0m\u001b[1;33m=\u001b[0m\u001b[1;36m15\u001b[0m\u001b[1;33m)\u001b[0m\u001b[1;33m.\u001b[0m\u001b[0mfit\u001b[0m\u001b[1;33m(\u001b[0m\u001b[0msubsample\u001b[0m\u001b[1;33m)\u001b[0m\u001b[1;33m\u001b[0m\u001b[1;33m\u001b[0m\u001b[0m\n\u001b[0m\u001b[0;32m      4\u001b[0m \u001b[1;33m\u001b[0m\u001b[0m\n\u001b[0;32m      5\u001b[0m \u001b[0mlabels\u001b[0m \u001b[1;33m=\u001b[0m \u001b[0mdbscan\u001b[0m\u001b[1;33m.\u001b[0m\u001b[0mlabels_\u001b[0m\u001b[1;33m\u001b[0m\u001b[1;33m\u001b[0m\u001b[0m\n",
      "\u001b[1;32m~\\Anaconda3.1\\lib\\site-packages\\sklearn\\cluster\\dbscan_.py\u001b[0m in \u001b[0;36mfit\u001b[1;34m(self, X, y, sample_weight)\u001b[0m\n\u001b[0;32m    317\u001b[0m \u001b[1;33m\u001b[0m\u001b[0m\n\u001b[0;32m    318\u001b[0m         \"\"\"\n\u001b[1;32m--> 319\u001b[1;33m         \u001b[0mX\u001b[0m \u001b[1;33m=\u001b[0m \u001b[0mcheck_array\u001b[0m\u001b[1;33m(\u001b[0m\u001b[0mX\u001b[0m\u001b[1;33m,\u001b[0m \u001b[0maccept_sparse\u001b[0m\u001b[1;33m=\u001b[0m\u001b[1;34m'csr'\u001b[0m\u001b[1;33m)\u001b[0m\u001b[1;33m\u001b[0m\u001b[1;33m\u001b[0m\u001b[0m\n\u001b[0m\u001b[0;32m    320\u001b[0m         clust = dbscan(X, sample_weight=sample_weight,\n\u001b[0;32m    321\u001b[0m                        **self.get_params())\n",
      "\u001b[1;32m~\\Anaconda3.1\\lib\\site-packages\\sklearn\\utils\\validation.py\u001b[0m in \u001b[0;36mcheck_array\u001b[1;34m(array, accept_sparse, accept_large_sparse, dtype, order, copy, force_all_finite, ensure_2d, allow_nd, ensure_min_samples, ensure_min_features, warn_on_dtype, estimator)\u001b[0m\n\u001b[0;32m    550\u001b[0m                     \u001b[1;34m\"Reshape your data either using array.reshape(-1, 1) if \"\u001b[0m\u001b[1;33m\u001b[0m\u001b[1;33m\u001b[0m\u001b[0m\n\u001b[0;32m    551\u001b[0m                     \u001b[1;34m\"your data has a single feature or array.reshape(1, -1) \"\u001b[0m\u001b[1;33m\u001b[0m\u001b[1;33m\u001b[0m\u001b[0m\n\u001b[1;32m--> 552\u001b[1;33m                     \"if it contains a single sample.\".format(array))\n\u001b[0m\u001b[0;32m    553\u001b[0m \u001b[1;33m\u001b[0m\u001b[0m\n\u001b[0;32m    554\u001b[0m         \u001b[1;31m# in the future np.flexible dtypes will be handled like object dtypes\u001b[0m\u001b[1;33m\u001b[0m\u001b[1;33m\u001b[0m\u001b[1;33m\u001b[0m\u001b[0m\n",
      "\u001b[1;31mValueError\u001b[0m: Expected 2D array, got 1D array instead:\narray=[0.].\nReshape your data either using array.reshape(-1, 1) if your data has a single feature or array.reshape(1, -1) if it contains a single sample."
     ]
    }
   ],
   "source": [
    "subset = subsample.astype(\"float32\", copy = False)\n",
    "\n",
    "dbscan = DBSCAN(eps=0.5, min_samples=15).fit(subsample)\n",
    "\n",
    "labels = dbscan.labels_\n",
    "\n",
    "core_samples = np.zeros_like(labels, dtype = bool)\n",
    "core_samples[dbscan.core_sample_indices_] = True\n",
    "\n",
    "print(\"Number of points: %i\" % label.size)"
   ]
  },
  {
   "cell_type": "code",
   "execution_count": null,
   "metadata": {},
   "outputs": [],
   "source": [
    "clf = NearestCentroid()\n",
    "clf.fit(subset.values, label)\n",
    "\n",
    "print(clf.centroids_.shape)"
   ]
  },
  {
   "cell_type": "markdown",
   "metadata": {},
   "source": [
    "### NMF"
   ]
  },
  {
   "cell_type": "code",
   "execution_count": 164,
   "metadata": {},
   "outputs": [
    {
     "name": "stdout",
     "output_type": "stream",
     "text": [
      "[[0.00940901 0.01799729 0.04915382 0.03820825 0.00036737 0.00094769]\n",
      " [0.01847192 0.02992397 0.00202516 0.0209018  0.00608955 0.0035608 ]\n",
      " [0.01949091 0.02775157 0.         0.02066241 0.00613836 0.00429351]\n",
      " ...\n",
      " [0.03798578 0.         0.05819352 0.04069617 0.00357633 0.00194597]\n",
      " [0.03886839 0.         0.06028457 0.03881481 0.00325775 0.00075412]\n",
      " [0.03895976 0.         0.0586558  0.03804357 0.00332919 0.00115329]]\n"
     ]
    }
   ],
   "source": [
    "from sklearn.preprocessing import MinMaxScaler\n",
    "\n",
    "scaler = MinMaxScaler()\n",
    "\n",
    "subset[subset.columns] = scaler.fit_transform(subset[subset.columns])\n",
    "\n",
    "# Import NMF\n",
    "from sklearn.decomposition import NMF\n",
    "\n",
    "# Create an NMF instance: model\n",
    "model = NMF(n_components=6)\n",
    "\n",
    "# Fit the model to articles\n",
    "model.fit(subset.values)\n",
    "\n",
    "# Transform the articles: nmf_features\n",
    "nmf_features = model.transform(subset.values)\n",
    "\n",
    "# Print the NMF features\n",
    "print(nmf_features)"
   ]
  }
 ],
 "metadata": {
  "kernelspec": {
   "display_name": "Python 3",
   "language": "python",
   "name": "python3"
  },
  "language_info": {
   "codemirror_mode": {
    "name": "ipython",
    "version": 3
   },
   "file_extension": ".py",
   "mimetype": "text/x-python",
   "name": "python",
   "nbconvert_exporter": "python",
   "pygments_lexer": "ipython3",
   "version": "3.7.1"
  },
  "toc": {
   "base_numbering": 1,
   "nav_menu": {},
   "number_sections": true,
   "sideBar": true,
   "skip_h1_title": false,
   "title_cell": "Table of Contents",
   "title_sidebar": "Contents",
   "toc_cell": false,
   "toc_position": {},
   "toc_section_display": true,
   "toc_window_display": false
  },
  "varInspector": {
   "cols": {
    "lenName": 16,
    "lenType": 16,
    "lenVar": 40
   },
   "kernels_config": {
    "python": {
     "delete_cmd_postfix": "",
     "delete_cmd_prefix": "del ",
     "library": "var_list.py",
     "varRefreshCmd": "print(var_dic_list())"
    },
    "r": {
     "delete_cmd_postfix": ") ",
     "delete_cmd_prefix": "rm(",
     "library": "var_list.r",
     "varRefreshCmd": "cat(var_dic_list()) "
    }
   },
   "types_to_exclude": [
    "module",
    "function",
    "builtin_function_or_method",
    "instance",
    "_Feature"
   ],
   "window_display": false
  }
 },
 "nbformat": 4,
 "nbformat_minor": 2
}
